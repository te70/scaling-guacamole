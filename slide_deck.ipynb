{
 "cells": [
  {
   "cell_type": "markdown",
   "metadata": {
    "slideshow": {
     "slide_type": "slide"
    }
   },
   "source": [
    "##### Loan performance in association with borrowers and lenders.\n",
    "\n",
    "##### Investigation overview"
   ]
  },
  {
   "cell_type": "markdown",
   "metadata": {
    "slideshow": {
     "slide_type": "subslide"
    }
   },
   "source": [
    "In this investigation, we look at borrowers and how various variables affect loan performance."
   ]
  },
  {
   "cell_type": "markdown",
   "metadata": {
    "slideshow": {
     "slide_type": "slide"
    }
   },
   "source": [
    "##### Dataset overview\n",
    "The prosper loan dataset is a financial dataset. Prosper is an American company that offers loans at low interest rates to the borrowers. The dataset is comprised of 81 variables and contains 113937 entries. We looked at Term, Borrower rate, Stated monthly income, loan original amount, Prosper rating, Employment Status and Estimated returns"
   ]
  },
  {
   "cell_type": "code",
   "execution_count": 1,
   "metadata": {
    "slideshow": {
     "slide_type": "skip"
    }
   },
   "outputs": [],
   "source": [
    "#import packages\n",
    "import numpy as np\n",
    "import pandas as pd\n",
    "import matplotlib.pyplot as plt\n",
    "import seaborn as sb\n",
    "\n",
    "import warnings\n",
    "warnings.filterwarnings('ignore')\n",
    "\n",
    "%matplotlib inline"
   ]
  },
  {
   "cell_type": "code",
   "execution_count": 2,
   "metadata": {
    "slideshow": {
     "slide_type": "skip"
    }
   },
   "outputs": [
    {
     "name": "stdout",
     "output_type": "stream",
     "text": [
      "<class 'pandas.core.frame.DataFrame'>\n",
      "RangeIndex: 113937 entries, 0 to 113936\n",
      "Data columns (total 81 columns):\n",
      " #   Column                               Non-Null Count   Dtype  \n",
      "---  ------                               --------------   -----  \n",
      " 0   ListingKey                           113937 non-null  object \n",
      " 1   ListingNumber                        113937 non-null  int64  \n",
      " 2   ListingCreationDate                  113937 non-null  object \n",
      " 3   CreditGrade                          28953 non-null   object \n",
      " 4   Term                                 113937 non-null  int64  \n",
      " 5   LoanStatus                           113937 non-null  object \n",
      " 6   ClosedDate                           55089 non-null   object \n",
      " 7   BorrowerAPR                          113912 non-null  float64\n",
      " 8   BorrowerRate                         113937 non-null  float64\n",
      " 9   LenderYield                          113937 non-null  float64\n",
      " 10  EstimatedEffectiveYield              84853 non-null   float64\n",
      " 11  EstimatedLoss                        84853 non-null   float64\n",
      " 12  EstimatedReturn                      84853 non-null   float64\n",
      " 13  ProsperRating (numeric)              84853 non-null   float64\n",
      " 14  ProsperRating (Alpha)                84853 non-null   object \n",
      " 15  ProsperScore                         84853 non-null   float64\n",
      " 16  ListingCategory (numeric)            113937 non-null  int64  \n",
      " 17  BorrowerState                        108422 non-null  object \n",
      " 18  Occupation                           110349 non-null  object \n",
      " 19  EmploymentStatus                     111682 non-null  object \n",
      " 20  EmploymentStatusDuration             106312 non-null  float64\n",
      " 21  IsBorrowerHomeowner                  113937 non-null  bool   \n",
      " 22  CurrentlyInGroup                     113937 non-null  bool   \n",
      " 23  GroupKey                             13341 non-null   object \n",
      " 24  DateCreditPulled                     113937 non-null  object \n",
      " 25  CreditScoreRangeLower                113346 non-null  float64\n",
      " 26  CreditScoreRangeUpper                113346 non-null  float64\n",
      " 27  FirstRecordedCreditLine              113240 non-null  object \n",
      " 28  CurrentCreditLines                   106333 non-null  float64\n",
      " 29  OpenCreditLines                      106333 non-null  float64\n",
      " 30  TotalCreditLinespast7years           113240 non-null  float64\n",
      " 31  OpenRevolvingAccounts                113937 non-null  int64  \n",
      " 32  OpenRevolvingMonthlyPayment          113937 non-null  float64\n",
      " 33  InquiriesLast6Months                 113240 non-null  float64\n",
      " 34  TotalInquiries                       112778 non-null  float64\n",
      " 35  CurrentDelinquencies                 113240 non-null  float64\n",
      " 36  AmountDelinquent                     106315 non-null  float64\n",
      " 37  DelinquenciesLast7Years              112947 non-null  float64\n",
      " 38  PublicRecordsLast10Years             113240 non-null  float64\n",
      " 39  PublicRecordsLast12Months            106333 non-null  float64\n",
      " 40  RevolvingCreditBalance               106333 non-null  float64\n",
      " 41  BankcardUtilization                  106333 non-null  float64\n",
      " 42  AvailableBankcardCredit              106393 non-null  float64\n",
      " 43  TotalTrades                          106393 non-null  float64\n",
      " 44  TradesNeverDelinquent (percentage)   106393 non-null  float64\n",
      " 45  TradesOpenedLast6Months              106393 non-null  float64\n",
      " 46  DebtToIncomeRatio                    105383 non-null  float64\n",
      " 47  IncomeRange                          113937 non-null  object \n",
      " 48  IncomeVerifiable                     113937 non-null  bool   \n",
      " 49  StatedMonthlyIncome                  113937 non-null  float64\n",
      " 50  LoanKey                              113937 non-null  object \n",
      " 51  TotalProsperLoans                    22085 non-null   float64\n",
      " 52  TotalProsperPaymentsBilled           22085 non-null   float64\n",
      " 53  OnTimeProsperPayments                22085 non-null   float64\n",
      " 54  ProsperPaymentsLessThanOneMonthLate  22085 non-null   float64\n",
      " 55  ProsperPaymentsOneMonthPlusLate      22085 non-null   float64\n",
      " 56  ProsperPrincipalBorrowed             22085 non-null   float64\n",
      " 57  ProsperPrincipalOutstanding          22085 non-null   float64\n",
      " 58  ScorexChangeAtTimeOfListing          18928 non-null   float64\n",
      " 59  LoanCurrentDaysDelinquent            113937 non-null  int64  \n",
      " 60  LoanFirstDefaultedCycleNumber        16952 non-null   float64\n",
      " 61  LoanMonthsSinceOrigination           113937 non-null  int64  \n",
      " 62  LoanNumber                           113937 non-null  int64  \n",
      " 63  LoanOriginalAmount                   113937 non-null  int64  \n",
      " 64  LoanOriginationDate                  113937 non-null  object \n",
      " 65  LoanOriginationQuarter               113937 non-null  object \n",
      " 66  MemberKey                            113937 non-null  object \n",
      " 67  MonthlyLoanPayment                   113937 non-null  float64\n",
      " 68  LP_CustomerPayments                  113937 non-null  float64\n",
      " 69  LP_CustomerPrincipalPayments         113937 non-null  float64\n",
      " 70  LP_InterestandFees                   113937 non-null  float64\n",
      " 71  LP_ServiceFees                       113937 non-null  float64\n",
      " 72  LP_CollectionFees                    113937 non-null  float64\n",
      " 73  LP_GrossPrincipalLoss                113937 non-null  float64\n",
      " 74  LP_NetPrincipalLoss                  113937 non-null  float64\n",
      " 75  LP_NonPrincipalRecoverypayments      113937 non-null  float64\n",
      " 76  PercentFunded                        113937 non-null  float64\n",
      " 77  Recommendations                      113937 non-null  int64  \n",
      " 78  InvestmentFromFriendsCount           113937 non-null  int64  \n",
      " 79  InvestmentFromFriendsAmount          113937 non-null  float64\n",
      " 80  Investors                            113937 non-null  int64  \n",
      "dtypes: bool(3), float64(50), int64(11), object(17)\n",
      "memory usage: 68.1+ MB\n"
     ]
    },
    {
     "data": {
      "text/html": [
       "<div>\n",
       "<style scoped>\n",
       "    .dataframe tbody tr th:only-of-type {\n",
       "        vertical-align: middle;\n",
       "    }\n",
       "\n",
       "    .dataframe tbody tr th {\n",
       "        vertical-align: top;\n",
       "    }\n",
       "\n",
       "    .dataframe thead th {\n",
       "        text-align: right;\n",
       "    }\n",
       "</style>\n",
       "<table border=\"1\" class=\"dataframe\">\n",
       "  <thead>\n",
       "    <tr style=\"text-align: right;\">\n",
       "      <th></th>\n",
       "      <th>ListingNumber</th>\n",
       "      <th>Term</th>\n",
       "      <th>BorrowerAPR</th>\n",
       "      <th>BorrowerRate</th>\n",
       "      <th>LenderYield</th>\n",
       "      <th>EstimatedEffectiveYield</th>\n",
       "      <th>EstimatedLoss</th>\n",
       "      <th>EstimatedReturn</th>\n",
       "      <th>ProsperRating (numeric)</th>\n",
       "      <th>ProsperScore</th>\n",
       "      <th>...</th>\n",
       "      <th>LP_ServiceFees</th>\n",
       "      <th>LP_CollectionFees</th>\n",
       "      <th>LP_GrossPrincipalLoss</th>\n",
       "      <th>LP_NetPrincipalLoss</th>\n",
       "      <th>LP_NonPrincipalRecoverypayments</th>\n",
       "      <th>PercentFunded</th>\n",
       "      <th>Recommendations</th>\n",
       "      <th>InvestmentFromFriendsCount</th>\n",
       "      <th>InvestmentFromFriendsAmount</th>\n",
       "      <th>Investors</th>\n",
       "    </tr>\n",
       "  </thead>\n",
       "  <tbody>\n",
       "    <tr>\n",
       "      <th>count</th>\n",
       "      <td>1.139370e+05</td>\n",
       "      <td>113937.000000</td>\n",
       "      <td>113912.000000</td>\n",
       "      <td>113937.000000</td>\n",
       "      <td>113937.000000</td>\n",
       "      <td>84853.000000</td>\n",
       "      <td>84853.000000</td>\n",
       "      <td>84853.000000</td>\n",
       "      <td>84853.000000</td>\n",
       "      <td>84853.000000</td>\n",
       "      <td>...</td>\n",
       "      <td>113937.000000</td>\n",
       "      <td>113937.000000</td>\n",
       "      <td>113937.000000</td>\n",
       "      <td>113937.000000</td>\n",
       "      <td>113937.000000</td>\n",
       "      <td>113937.000000</td>\n",
       "      <td>113937.000000</td>\n",
       "      <td>113937.000000</td>\n",
       "      <td>113937.000000</td>\n",
       "      <td>113937.000000</td>\n",
       "    </tr>\n",
       "    <tr>\n",
       "      <th>mean</th>\n",
       "      <td>6.278857e+05</td>\n",
       "      <td>40.830248</td>\n",
       "      <td>0.218828</td>\n",
       "      <td>0.192764</td>\n",
       "      <td>0.182701</td>\n",
       "      <td>0.168661</td>\n",
       "      <td>0.080306</td>\n",
       "      <td>0.096068</td>\n",
       "      <td>4.072243</td>\n",
       "      <td>5.950067</td>\n",
       "      <td>...</td>\n",
       "      <td>-54.725641</td>\n",
       "      <td>-14.242698</td>\n",
       "      <td>700.446342</td>\n",
       "      <td>681.420499</td>\n",
       "      <td>25.142686</td>\n",
       "      <td>0.998584</td>\n",
       "      <td>0.048027</td>\n",
       "      <td>0.023460</td>\n",
       "      <td>16.550751</td>\n",
       "      <td>80.475228</td>\n",
       "    </tr>\n",
       "    <tr>\n",
       "      <th>std</th>\n",
       "      <td>3.280762e+05</td>\n",
       "      <td>10.436212</td>\n",
       "      <td>0.080364</td>\n",
       "      <td>0.074818</td>\n",
       "      <td>0.074516</td>\n",
       "      <td>0.068467</td>\n",
       "      <td>0.046764</td>\n",
       "      <td>0.030403</td>\n",
       "      <td>1.673227</td>\n",
       "      <td>2.376501</td>\n",
       "      <td>...</td>\n",
       "      <td>60.675425</td>\n",
       "      <td>109.232758</td>\n",
       "      <td>2388.513831</td>\n",
       "      <td>2357.167068</td>\n",
       "      <td>275.657937</td>\n",
       "      <td>0.017919</td>\n",
       "      <td>0.332353</td>\n",
       "      <td>0.232412</td>\n",
       "      <td>294.545422</td>\n",
       "      <td>103.239020</td>\n",
       "    </tr>\n",
       "    <tr>\n",
       "      <th>min</th>\n",
       "      <td>4.000000e+00</td>\n",
       "      <td>12.000000</td>\n",
       "      <td>0.006530</td>\n",
       "      <td>0.000000</td>\n",
       "      <td>-0.010000</td>\n",
       "      <td>-0.182700</td>\n",
       "      <td>0.004900</td>\n",
       "      <td>-0.182700</td>\n",
       "      <td>1.000000</td>\n",
       "      <td>1.000000</td>\n",
       "      <td>...</td>\n",
       "      <td>-664.870000</td>\n",
       "      <td>-9274.750000</td>\n",
       "      <td>-94.200000</td>\n",
       "      <td>-954.550000</td>\n",
       "      <td>0.000000</td>\n",
       "      <td>0.700000</td>\n",
       "      <td>0.000000</td>\n",
       "      <td>0.000000</td>\n",
       "      <td>0.000000</td>\n",
       "      <td>1.000000</td>\n",
       "    </tr>\n",
       "    <tr>\n",
       "      <th>25%</th>\n",
       "      <td>4.009190e+05</td>\n",
       "      <td>36.000000</td>\n",
       "      <td>0.156290</td>\n",
       "      <td>0.134000</td>\n",
       "      <td>0.124200</td>\n",
       "      <td>0.115670</td>\n",
       "      <td>0.042400</td>\n",
       "      <td>0.074080</td>\n",
       "      <td>3.000000</td>\n",
       "      <td>4.000000</td>\n",
       "      <td>...</td>\n",
       "      <td>-73.180000</td>\n",
       "      <td>0.000000</td>\n",
       "      <td>0.000000</td>\n",
       "      <td>0.000000</td>\n",
       "      <td>0.000000</td>\n",
       "      <td>1.000000</td>\n",
       "      <td>0.000000</td>\n",
       "      <td>0.000000</td>\n",
       "      <td>0.000000</td>\n",
       "      <td>2.000000</td>\n",
       "    </tr>\n",
       "    <tr>\n",
       "      <th>50%</th>\n",
       "      <td>6.005540e+05</td>\n",
       "      <td>36.000000</td>\n",
       "      <td>0.209760</td>\n",
       "      <td>0.184000</td>\n",
       "      <td>0.173000</td>\n",
       "      <td>0.161500</td>\n",
       "      <td>0.072400</td>\n",
       "      <td>0.091700</td>\n",
       "      <td>4.000000</td>\n",
       "      <td>6.000000</td>\n",
       "      <td>...</td>\n",
       "      <td>-34.440000</td>\n",
       "      <td>0.000000</td>\n",
       "      <td>0.000000</td>\n",
       "      <td>0.000000</td>\n",
       "      <td>0.000000</td>\n",
       "      <td>1.000000</td>\n",
       "      <td>0.000000</td>\n",
       "      <td>0.000000</td>\n",
       "      <td>0.000000</td>\n",
       "      <td>44.000000</td>\n",
       "    </tr>\n",
       "    <tr>\n",
       "      <th>75%</th>\n",
       "      <td>8.926340e+05</td>\n",
       "      <td>36.000000</td>\n",
       "      <td>0.283810</td>\n",
       "      <td>0.250000</td>\n",
       "      <td>0.240000</td>\n",
       "      <td>0.224300</td>\n",
       "      <td>0.112000</td>\n",
       "      <td>0.116600</td>\n",
       "      <td>5.000000</td>\n",
       "      <td>8.000000</td>\n",
       "      <td>...</td>\n",
       "      <td>-13.920000</td>\n",
       "      <td>0.000000</td>\n",
       "      <td>0.000000</td>\n",
       "      <td>0.000000</td>\n",
       "      <td>0.000000</td>\n",
       "      <td>1.000000</td>\n",
       "      <td>0.000000</td>\n",
       "      <td>0.000000</td>\n",
       "      <td>0.000000</td>\n",
       "      <td>115.000000</td>\n",
       "    </tr>\n",
       "    <tr>\n",
       "      <th>max</th>\n",
       "      <td>1.255725e+06</td>\n",
       "      <td>60.000000</td>\n",
       "      <td>0.512290</td>\n",
       "      <td>0.497500</td>\n",
       "      <td>0.492500</td>\n",
       "      <td>0.319900</td>\n",
       "      <td>0.366000</td>\n",
       "      <td>0.283700</td>\n",
       "      <td>7.000000</td>\n",
       "      <td>11.000000</td>\n",
       "      <td>...</td>\n",
       "      <td>32.060000</td>\n",
       "      <td>0.000000</td>\n",
       "      <td>25000.000000</td>\n",
       "      <td>25000.000000</td>\n",
       "      <td>21117.900000</td>\n",
       "      <td>1.012500</td>\n",
       "      <td>39.000000</td>\n",
       "      <td>33.000000</td>\n",
       "      <td>25000.000000</td>\n",
       "      <td>1189.000000</td>\n",
       "    </tr>\n",
       "  </tbody>\n",
       "</table>\n",
       "<p>8 rows × 61 columns</p>\n",
       "</div>"
      ],
      "text/plain": [
       "       ListingNumber           Term    BorrowerAPR   BorrowerRate  \\\n",
       "count   1.139370e+05  113937.000000  113912.000000  113937.000000   \n",
       "mean    6.278857e+05      40.830248       0.218828       0.192764   \n",
       "std     3.280762e+05      10.436212       0.080364       0.074818   \n",
       "min     4.000000e+00      12.000000       0.006530       0.000000   \n",
       "25%     4.009190e+05      36.000000       0.156290       0.134000   \n",
       "50%     6.005540e+05      36.000000       0.209760       0.184000   \n",
       "75%     8.926340e+05      36.000000       0.283810       0.250000   \n",
       "max     1.255725e+06      60.000000       0.512290       0.497500   \n",
       "\n",
       "         LenderYield  EstimatedEffectiveYield  EstimatedLoss  EstimatedReturn  \\\n",
       "count  113937.000000             84853.000000   84853.000000     84853.000000   \n",
       "mean        0.182701                 0.168661       0.080306         0.096068   \n",
       "std         0.074516                 0.068467       0.046764         0.030403   \n",
       "min        -0.010000                -0.182700       0.004900        -0.182700   \n",
       "25%         0.124200                 0.115670       0.042400         0.074080   \n",
       "50%         0.173000                 0.161500       0.072400         0.091700   \n",
       "75%         0.240000                 0.224300       0.112000         0.116600   \n",
       "max         0.492500                 0.319900       0.366000         0.283700   \n",
       "\n",
       "       ProsperRating (numeric)  ProsperScore  ...  LP_ServiceFees  \\\n",
       "count             84853.000000  84853.000000  ...   113937.000000   \n",
       "mean                  4.072243      5.950067  ...      -54.725641   \n",
       "std                   1.673227      2.376501  ...       60.675425   \n",
       "min                   1.000000      1.000000  ...     -664.870000   \n",
       "25%                   3.000000      4.000000  ...      -73.180000   \n",
       "50%                   4.000000      6.000000  ...      -34.440000   \n",
       "75%                   5.000000      8.000000  ...      -13.920000   \n",
       "max                   7.000000     11.000000  ...       32.060000   \n",
       "\n",
       "       LP_CollectionFees  LP_GrossPrincipalLoss  LP_NetPrincipalLoss  \\\n",
       "count      113937.000000          113937.000000        113937.000000   \n",
       "mean          -14.242698             700.446342           681.420499   \n",
       "std           109.232758            2388.513831          2357.167068   \n",
       "min         -9274.750000             -94.200000          -954.550000   \n",
       "25%             0.000000               0.000000             0.000000   \n",
       "50%             0.000000               0.000000             0.000000   \n",
       "75%             0.000000               0.000000             0.000000   \n",
       "max             0.000000           25000.000000         25000.000000   \n",
       "\n",
       "       LP_NonPrincipalRecoverypayments  PercentFunded  Recommendations  \\\n",
       "count                    113937.000000  113937.000000    113937.000000   \n",
       "mean                         25.142686       0.998584         0.048027   \n",
       "std                         275.657937       0.017919         0.332353   \n",
       "min                           0.000000       0.700000         0.000000   \n",
       "25%                           0.000000       1.000000         0.000000   \n",
       "50%                           0.000000       1.000000         0.000000   \n",
       "75%                           0.000000       1.000000         0.000000   \n",
       "max                       21117.900000       1.012500        39.000000   \n",
       "\n",
       "       InvestmentFromFriendsCount  InvestmentFromFriendsAmount      Investors  \n",
       "count               113937.000000                113937.000000  113937.000000  \n",
       "mean                     0.023460                    16.550751      80.475228  \n",
       "std                      0.232412                   294.545422     103.239020  \n",
       "min                      0.000000                     0.000000       1.000000  \n",
       "25%                      0.000000                     0.000000       2.000000  \n",
       "50%                      0.000000                     0.000000      44.000000  \n",
       "75%                      0.000000                     0.000000     115.000000  \n",
       "max                     33.000000                 25000.000000    1189.000000  \n",
       "\n",
       "[8 rows x 61 columns]"
      ]
     },
     "execution_count": 2,
     "metadata": {},
     "output_type": "execute_result"
    }
   ],
   "source": [
    "#load the dataset\n",
    "df = pd.read_csv('prosperLoanData.csv')\n",
    "\n",
    "#shape of data\n",
    "df.shape\n",
    "\n",
    "#columns of data\n",
    "df.info()\n",
    "\n",
    "#first 5 rows\n",
    "df.head(5)\n",
    "\n",
    "df.describe()"
   ]
  },
  {
   "cell_type": "markdown",
   "metadata": {
    "slideshow": {
     "slide_type": "slide"
    }
   },
   "source": [
    "##### Distribution of Estimated return\n",
    "> > The feature of Estimated return appears to have a range of -18%-28%. The distribution is skewed to the right. The quartiles lie from 7%, 9& and 11%."
   ]
  },
  {
   "cell_type": "code",
   "execution_count": 3,
   "metadata": {
    "slideshow": {
     "slide_type": "subslide"
    }
   },
   "outputs": [
    {
     "data": {
      "text/plain": [
       "Text(0.5, 1.0, 'Distribution of Estimated return')"
      ]
     },
     "execution_count": 3,
     "metadata": {},
     "output_type": "execute_result"
    },
    {
     "data": {
      "image/png": "[encoded data removed]",
      "text/plain": [
       "<Figure size 576x360 with 1 Axes>"
      ]
     },
     "metadata": {
      "needs_background": "light"
     },
     "output_type": "display_data"
    }
   ],
   "source": [
    "#desription of employment status\n",
    "df['EstimatedReturn'].describe()\n",
    "\n",
    "#description of estimated returns\n",
    "df['EstimatedReturn'].isna().sum()\n",
    "\n",
    "#drop null\n",
    "df['EstimatedReturn'].dropna(axis = 0, inplace = True)\n",
    "\n",
    "#histogram plot\n",
    "plt.figure(figsize = [8,5])\n",
    "sb.distplot(df.EstimatedReturn, bins = 200)\n",
    "plt.xlabel('Estimated return')\n",
    "plt.ylabel('Count')\n",
    "plt.title('Distribution of Estimated return')"
   ]
  },
  {
   "cell_type": "markdown",
   "metadata": {
    "slideshow": {
     "slide_type": "slide"
    }
   },
   "source": [
    "##### Distribution of prosper rating\n",
    " The ProsperRating (Alpha) merged with CreditGrade produces ProsperRatingMerged. The most frequent rating is C. The distribution is skewed to the right."
   ]
  },
  {
   "cell_type": "code",
   "execution_count": 4,
   "metadata": {
    "slideshow": {
     "slide_type": "subslide"
    }
   },
   "outputs": [
    {
     "data": {
      "text/plain": [
       "Text(0.5, 1.0, 'Distribution of Prosper rating')"
      ]
     },
     "execution_count": 4,
     "metadata": {},
     "output_type": "execute_result"
    },
    {
     "data": {
      "image/png": "[encoded data removed]",
      "text/plain": [
       "<Figure size 576x360 with 1 Axes>"
      ]
     },
     "metadata": {
      "needs_background": "light"
     },
     "output_type": "display_data"
    }
   ],
   "source": [
    "#prosper rating description\n",
    "df['ProsperRating (Alpha)'].describe()\n",
    "\n",
    "#credit grade description\n",
    "df['CreditGrade'].describe()\n",
    "\n",
    "#merge NC and HR\n",
    "df['CreditGrade'].replace(['NC', 'HR'], 'E', inplace=True)\n",
    "\n",
    "#handle null values\n",
    "df['CreditGrade'].fillna(\"\", inplace=True)\n",
    "df['ProsperRating (Alpha)'].fillna(\"\", inplace=True)\n",
    "\n",
    "#merge credit ratings\n",
    "df['ProsperRatingMerged'] = df['ProsperRating (Alpha)'] + df['CreditGrade']\n",
    "\n",
    "#drop rows\n",
    "df = df.query('ProsperRatingMerged != \"\"')\n",
    "\n",
    "#value count\n",
    "df['ProsperRatingMerged'].value_counts()\n",
    "\n",
    "df['ProsperRatingMerged'].describe()\n",
    "\n",
    "#convert to ordinal type\n",
    "ordinal_rates = ['AA', 'A', 'B', 'C', 'D', 'E']\n",
    "ordered_ordinal = pd.api.types.CategoricalDtype(ordered=True, categories=ordinal_rates)\n",
    "df['ProsperRatingMerged'] = df['ProsperRatingMerged'].astype(ordered_ordinal)\n",
    "\n",
    "#countplot\n",
    "plt.figure(figsize=[8,5])\n",
    "sb.countplot(data = df, x = 'ProsperRatingMerged', palette='Blues_r')\n",
    "plt.xlabel('Prosper Rating')\n",
    "plt.ylabel('Count')\n",
    "plt.title('Distribution of Prosper rating')"
   ]
  },
  {
   "cell_type": "code",
   "execution_count": 5,
   "metadata": {
    "slideshow": {
     "slide_type": "skip"
    }
   },
   "outputs": [],
   "source": [
    "#categorical & numeric variables\n",
    "categorical_variables = ['ProsperRatingMerged', 'EmploymentStatus']\n",
    "numeric_variables = ['Term', 'BorrowerRate', 'StatedMonthlyIncome', 'EstimatedReturn', 'LoanOriginalAmount']"
   ]
  },
  {
   "cell_type": "markdown",
   "metadata": {
    "slideshow": {
     "slide_type": "slide"
    }
   },
   "source": [
    "##### Employment status and ProsperRating\n",
    "From the boxplots, we can see that the people who are self-employed have a the highest range of estimated return, while people who are retired have the lowest estimated return. \n",
    "\n",
    "The estimated return increase with a better prosper rating.\n",
    "\n",
    "We can speculate that people who are self-employed have higher cash flows to repay their loans while people who are retired have stopped working and don't have consistent incomes."
   ]
  },
  {
   "cell_type": "code",
   "execution_count": 12,
   "metadata": {
    "slideshow": {
     "slide_type": "subslide"
    }
   },
   "outputs": [
    {
     "data": {
      "text/plain": [
       "Text(0.5, 0.98, 'Estimated Return vs Employment Status & Prosper Rating')"
      ]
     },
     "execution_count": 12,
     "metadata": {},
     "output_type": "execute_result"
    },
    {
     "data": {
      "image/png": "[encoded data removed]",
      "text/plain": [
       "<Figure size 1080x360 with 2 Axes>"
      ]
     },
     "metadata": {
      "needs_background": "light"
     },
     "output_type": "display_data"
    }
   ],
   "source": [
    "#boxplot\n",
    "plt.figure(figsize=[15,5])\n",
    "\n",
    "plt.subplot(1,2,1)\n",
    "base_color = sb.color_palette()[0]\n",
    "sb.boxplot(data=df, y='EmploymentStatus', x='EstimatedReturn', palette='Blues_r',showfliers=False)\n",
    "plt.xlim(0,.2)\n",
    "plt.ylabel('Employment Status')\n",
    "plt.xlabel('Estimated Return')\n",
    "\n",
    "plt.subplot(1,2,2)\n",
    "base_color = sb.color_palette()[0]\n",
    "sb.boxplot(data = df, y='ProsperRatingMerged', x='EstimatedReturn', palette='Blues_r',showfliers=False)\n",
    "plt.xlim(0,.2)\n",
    "plt.ylabel('Prosper Rating')\n",
    "plt.xlabel('Estimated Return')\n",
    "\n",
    "plt.suptitle('Estimated Return vs Employment Status & Prosper Rating')"
   ]
  },
  {
   "cell_type": "markdown",
   "metadata": {
    "slideshow": {
     "slide_type": "slide"
    }
   },
   "source": [
    "##### Employment Status and Borrower Rate\n",
    "From the boxplots, we can observe that self-employed people have the highest borrower rate followed by employed people and the retired people have the lowest borrower rate.\n",
    "\n",
    "The prosper rating increases with higher borrower rate.\n",
    "\n",
    "We can speculate that because self-employed people have high borrower rate that they have higher prosper ratings. "
   ]
  },
  {
   "cell_type": "code",
   "execution_count": 8,
   "metadata": {
    "slideshow": {
     "slide_type": "subslide"
    }
   },
   "outputs": [
    {
     "data": {
      "text/plain": [
       "<AxesSubplot: xlabel='BorrowerRate', ylabel='ProsperRatingMerged'>"
      ]
     },
     "execution_count": 8,
     "metadata": {},
     "output_type": "execute_result"
    },
    {
     "data": {
      "image/png": "[encoded data removed]",
      "text/plain": [
       "<Figure size 1080x360 with 2 Axes>"
      ]
     },
     "metadata": {
      "needs_background": "light"
     },
     "output_type": "display_data"
    }
   ],
   "source": [
    "#boxplots\n",
    "plt.figure(figsize=[15,5])\n",
    "\n",
    "plt.subplot(1,2,1)\n",
    "base_color=sb.color_palette()[0]\n",
    "sb.boxplot(data=df, y='EmploymentStatus', x='BorrowerRate', palette='Blues_r', showfliers = False)\n",
    "\n",
    "plt.subplot(1,2,2)\n",
    "base_color= sb.color_palette()[0]\n",
    "sb.boxplot(data=df, y='ProsperRatingMerged', x='BorrowerRate', palette='Blues_r',showfliers=False)"
   ]
  },
  {
   "cell_type": "markdown",
   "metadata": {
    "slideshow": {
     "slide_type": "slide"
    }
   },
   "source": [
    "##### Employment Status effect on prosper rating\n",
    "From the chart above, we can see that employed people make the most people who take loans. Most of the employed people have a rating of C. They also have the most members with a ratong of AA followed by Full time and Self-employed. \n",
    "\n",
    "This would make sense because employed people have a consistent income, lenders are guranteed that the loans taken by employed people will be paid. "
   ]
  },
  {
   "cell_type": "code",
   "execution_count": 9,
   "metadata": {
    "slideshow": {
     "slide_type": "subslide"
    }
   },
   "outputs": [
    {
     "data": {
      "text/plain": [
       "Text(0, 0.5, 'Employment Status')"
      ]
     },
     "execution_count": 9,
     "metadata": {},
     "output_type": "execute_result"
    },
    {
     "data": {
      "image/png": "[encoded data removed]",
      "text/plain": [
       "<Figure size 720x576 with 1 Axes>"
      ]
     },
     "metadata": {
      "needs_background": "light"
     },
     "output_type": "display_data"
    }
   ],
   "source": [
    "plt.figure(figsize=[10,8])\n",
    "\n",
    "ax = sb.countplot(data=df, y='EmploymentStatus', hue='ProsperRatingMerged', palette='Blues_r')\n",
    "ax.legend(title='Prosper rating')\n",
    "plt.title('Distribution of Prosper Rating and Employment Status')\n",
    "plt.ylabel('Employment Status')"
   ]
  },
  {
   "cell_type": "markdown",
   "metadata": {
    "slideshow": {
     "slide_type": "slide"
    }
   },
   "source": [
    "##### Relationship between Employment status, Prosper rating and Estimated returns\n",
    "From the heat map we see that Employed people are still dominating in numbers. Employed people still lie in the worse prosper ratings despite having among the highest estimated returns.\n",
    "\n",
    "Another trend we can observe from the chart above is that, People who work full time have the highest estimated return despite having the worst prosper rating.\n",
    "\n",
    "Despite what we have observed earlier, retired people has the least amount of people taking loans but they have the highest estimated return and have the worst prosper rating. \n",
    "\n",
    "Another observation from the chart, retired people have the highest return in the AA rating while people who are not employed have the highest return in the A category. \n",
    "\n",
    "In the B category people who are not employed also have the highest estimated return, while people who work full time have the highest return in the C category."
   ]
  },
  {
   "cell_type": "code",
   "execution_count": 10,
   "metadata": {
    "slideshow": {
     "slide_type": "subslide"
    }
   },
   "outputs": [
    {
     "data": {
      "text/plain": [
       "Text(0.5, 1.0, 'Heatmap of Estimated returns Medians vs Prosper Raring and Employment Status')"
      ]
     },
     "execution_count": 10,
     "metadata": {},
     "output_type": "execute_result"
    },
    {
     "data": {
      "image/png": "[encoded data removed]",
      "text/plain": [
       "<Figure size 720x360 with 2 Axes>"
      ]
     },
     "metadata": {
      "needs_background": "light"
     },
     "output_type": "display_data"
    }
   ],
   "source": [
    "#heat map\n",
    "plt.figure(figsize = [10,5])\n",
    "\n",
    "m_exp = df.groupby(['ProsperRatingMerged', 'EmploymentStatus']).median()['EstimatedReturn']*100\n",
    "m_exp = m_exp.reset_index(name='EstimatedReturnMedian')\n",
    "m_exp = m_exp.pivot(index = 'EmploymentStatus', columns = 'ProsperRatingMerged', values = 'EstimatedReturnMedian')\n",
    "\n",
    "sb.heatmap(m_exp, annot=True, fmt='.1f', cmap='Blues', cbar_kws={'label':'Estimated Returns by Median'})\n",
    "plt.xlabel('Prosper Rating')\n",
    "plt.ylabel('Employment Status')\n",
    "plt.title('Heatmap of Estimated returns Medians vs Prosper Raring and Employment Status')"
   ]
  },
  {
   "cell_type": "code",
   "execution_count": 3,
   "metadata": {},
   "outputs": [
    {
     "name": "stderr",
     "output_type": "stream",
     "text": [
      "[NbConvertApp] Converting notebook slide_deck.ipynb to slides\n",
      "[NbConvertApp] Writing 736877 bytes to slide_deck.slides.html\n",
      "[NbConvertApp] Redirecting reveal.js requests to https://cdnjs.cloudflare.com/ajax/libs/reveal.js/3.5.0\n",
      "Traceback (most recent call last):\n",
      "  File \"C:\\ProgramData\\Anaconda3\\Scripts\\jupyter-nbconvert-script.py\", line 10, in <module>\n",
      "    sys.exit(main())\n",
      "  File \"C:\\ProgramData\\Anaconda3\\lib\\site-packages\\jupyter_core\\application.py\", line 264, in launch_instance\n",
      "    return super(JupyterApp, cls).launch_instance(argv=argv, **kwargs)\n",
      "  File \"C:\\ProgramData\\Anaconda3\\lib\\site-packages\\traitlets\\config\\application.py\", line 846, in launch_instance\n",
      "    app.start()\n",
      "  File \"C:\\ProgramData\\Anaconda3\\lib\\site-packages\\nbconvert\\nbconvertapp.py\", line 369, in start\n",
      "    self.convert_notebooks()\n",
      "  File \"C:\\ProgramData\\Anaconda3\\lib\\site-packages\\nbconvert\\nbconvertapp.py\", line 541, in convert_notebooks\n",
      "    self.convert_single_notebook(notebook_filename)\n",
      "  File \"C:\\ProgramData\\Anaconda3\\lib\\site-packages\\nbconvert\\nbconvertapp.py\", line 508, in convert_single_notebook\n",
      "    self.postprocess_single_notebook(write_results)\n",
      "  File \"C:\\ProgramData\\Anaconda3\\lib\\site-packages\\nbconvert\\nbconvertapp.py\", line 480, in postprocess_single_notebook\n",
      "    self.postprocessor(write_results)\n",
      "  File \"C:\\ProgramData\\Anaconda3\\lib\\site-packages\\nbconvert\\postprocessors\\base.py\", line 28, in __call__\n",
      "    self.postprocess(input)\n",
      "  File \"C:\\ProgramData\\Anaconda3\\lib\\site-packages\\nbconvert\\postprocessors\\serve.py\", line 90, in postprocess\n",
      "    http_server.listen(self.port, address=self.ip)\n",
      "  File \"C:\\ProgramData\\Anaconda3\\lib\\site-packages\\tornado\\tcpserver.py\", line 151, in listen\n",
      "    sockets = bind_sockets(port, address=address)\n",
      "  File \"C:\\ProgramData\\Anaconda3\\lib\\site-packages\\tornado\\netutil.py\", line 161, in bind_sockets\n",
      "    sock.bind(sockaddr)\n",
      "OSError: [WinError 10048] Only one usage of each socket address (protocol/network address/port) is normally permitted\n"
     ]
    }
   ],
   "source": [
    "!jupyter nbconvert slide_deck.ipynb --to slides --post serve --no-input --no-prompt"
   ]
  },
  {
   "cell_type": "markdown",
   "metadata": {},
   "source": []
  },
  {
   "cell_type": "code",
   "execution_count": null,
   "metadata": {},
   "outputs": [],
   "source": []
  }
 ],
 "metadata": {
  "celltoolbar": "Slideshow",
  "kernelspec": {
   "display_name": "Python 3 (ipykernel)",
   "language": "python",
   "name": "python3"
  },
  "language_info": {
   "codemirror_mode": {
    "name": "ipython",
    "version": 3
   },
   "file_extension": ".py",
   "mimetype": "text/x-python",
   "name": "python",
   "nbconvert_exporter": "python",
   "pygments_lexer": "ipython3",
   "version": "3.9.12"
  },
  "vscode": {
   "interpreter": {
    "hash": "3af17b13bb43254e02810a7bfeba92288425bf9d9cda6637a58a3bab507540db"
   }
  }
 },
 "nbformat": 4,
 "nbformat_minor": 2
}
